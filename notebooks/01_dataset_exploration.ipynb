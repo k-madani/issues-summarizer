{
  "nbformat": 4,
  "nbformat_minor": 0,
  "metadata": {
    "colab": {
      "provenance": [],
      "gpuType": "T4",
      "authorship_tag": "ABX9TyOw/sTGOCWcLJauXaDASfYE"
    },
    "kernelspec": {
      "name": "python3",
      "display_name": "Python 3"
    },
    "language_info": {
      "name": "python"
    },
    "accelerator": "GPU",
    "widgets": {
      "application/vnd.jupyter.widget-state+json": {
        "ab42e908c046472cae23636163d9abf2": {
          "model_module": "@jupyter-widgets/controls",
          "model_name": "HBoxModel",
          "model_module_version": "1.5.0",
          "state": {
            "_dom_classes": [],
            "_model_module": "@jupyter-widgets/controls",
            "_model_module_version": "1.5.0",
            "_model_name": "HBoxModel",
            "_view_count": null,
            "_view_module": "@jupyter-widgets/controls",
            "_view_module_version": "1.5.0",
            "_view_name": "HBoxView",
            "box_style": "",
            "children": [
              "IPY_MODEL_ae058ffcb3954268a17f0b4af686821a",
              "IPY_MODEL_8efb479ccf65463cb73f64281365d2ff",
              "IPY_MODEL_7b9c2ce5e97b4518941fee07ab903be2"
            ],
            "layout": "IPY_MODEL_5fbfca55291947fe926b2b0e24a27992"
          }
        },
        "ae058ffcb3954268a17f0b4af686821a": {
          "model_module": "@jupyter-widgets/controls",
          "model_name": "HTMLModel",
          "model_module_version": "1.5.0",
          "state": {
            "_dom_classes": [],
            "_model_module": "@jupyter-widgets/controls",
            "_model_module_version": "1.5.0",
            "_model_name": "HTMLModel",
            "_view_count": null,
            "_view_module": "@jupyter-widgets/controls",
            "_view_module_version": "1.5.0",
            "_view_name": "HTMLView",
            "description": "",
            "description_tooltip": null,
            "layout": "IPY_MODEL_0d1ddfa9936b42b48642c8e3687de40e",
            "placeholder": "​",
            "style": "IPY_MODEL_b7727494cc694c809a2768a5a27466b2",
            "value": "README.md: 100%"
          }
        },
        "8efb479ccf65463cb73f64281365d2ff": {
          "model_module": "@jupyter-widgets/controls",
          "model_name": "FloatProgressModel",
          "model_module_version": "1.5.0",
          "state": {
            "_dom_classes": [],
            "_model_module": "@jupyter-widgets/controls",
            "_model_module_version": "1.5.0",
            "_model_name": "FloatProgressModel",
            "_view_count": null,
            "_view_module": "@jupyter-widgets/controls",
            "_view_module_version": "1.5.0",
            "_view_name": "ProgressView",
            "bar_style": "success",
            "description": "",
            "description_tooltip": null,
            "layout": "IPY_MODEL_10653c467563440895d18428bf5706fc",
            "max": 799,
            "min": 0,
            "orientation": "horizontal",
            "style": "IPY_MODEL_2d1d0b6a112d490ab66ef52799d00e5f",
            "value": 799
          }
        },
        "7b9c2ce5e97b4518941fee07ab903be2": {
          "model_module": "@jupyter-widgets/controls",
          "model_name": "HTMLModel",
          "model_module_version": "1.5.0",
          "state": {
            "_dom_classes": [],
            "_model_module": "@jupyter-widgets/controls",
            "_model_module_version": "1.5.0",
            "_model_name": "HTMLModel",
            "_view_count": null,
            "_view_module": "@jupyter-widgets/controls",
            "_view_module_version": "1.5.0",
            "_view_name": "HTMLView",
            "description": "",
            "description_tooltip": null,
            "layout": "IPY_MODEL_7cf9bdc1c5194a99b4d222706a8771b0",
            "placeholder": "​",
            "style": "IPY_MODEL_f553863b456345f783cb79d07222cbd1",
            "value": " 799/799 [00:00&lt;00:00, 80.7kB/s]"
          }
        },
        "5fbfca55291947fe926b2b0e24a27992": {
          "model_module": "@jupyter-widgets/base",
          "model_name": "LayoutModel",
          "model_module_version": "1.2.0",
          "state": {
            "_model_module": "@jupyter-widgets/base",
            "_model_module_version": "1.2.0",
            "_model_name": "LayoutModel",
            "_view_count": null,
            "_view_module": "@jupyter-widgets/base",
            "_view_module_version": "1.2.0",
            "_view_name": "LayoutView",
            "align_content": null,
            "align_items": null,
            "align_self": null,
            "border": null,
            "bottom": null,
            "display": null,
            "flex": null,
            "flex_flow": null,
            "grid_area": null,
            "grid_auto_columns": null,
            "grid_auto_flow": null,
            "grid_auto_rows": null,
            "grid_column": null,
            "grid_gap": null,
            "grid_row": null,
            "grid_template_areas": null,
            "grid_template_columns": null,
            "grid_template_rows": null,
            "height": null,
            "justify_content": null,
            "justify_items": null,
            "left": null,
            "margin": null,
            "max_height": null,
            "max_width": null,
            "min_height": null,
            "min_width": null,
            "object_fit": null,
            "object_position": null,
            "order": null,
            "overflow": null,
            "overflow_x": null,
            "overflow_y": null,
            "padding": null,
            "right": null,
            "top": null,
            "visibility": null,
            "width": null
          }
        },
        "0d1ddfa9936b42b48642c8e3687de40e": {
          "model_module": "@jupyter-widgets/base",
          "model_name": "LayoutModel",
          "model_module_version": "1.2.0",
          "state": {
            "_model_module": "@jupyter-widgets/base",
            "_model_module_version": "1.2.0",
            "_model_name": "LayoutModel",
            "_view_count": null,
            "_view_module": "@jupyter-widgets/base",
            "_view_module_version": "1.2.0",
            "_view_name": "LayoutView",
            "align_content": null,
            "align_items": null,
            "align_self": null,
            "border": null,
            "bottom": null,
            "display": null,
            "flex": null,
            "flex_flow": null,
            "grid_area": null,
            "grid_auto_columns": null,
            "grid_auto_flow": null,
            "grid_auto_rows": null,
            "grid_column": null,
            "grid_gap": null,
            "grid_row": null,
            "grid_template_areas": null,
            "grid_template_columns": null,
            "grid_template_rows": null,
            "height": null,
            "justify_content": null,
            "justify_items": null,
            "left": null,
            "margin": null,
            "max_height": null,
            "max_width": null,
            "min_height": null,
            "min_width": null,
            "object_fit": null,
            "object_position": null,
            "order": null,
            "overflow": null,
            "overflow_x": null,
            "overflow_y": null,
            "padding": null,
            "right": null,
            "top": null,
            "visibility": null,
            "width": null
          }
        },
        "b7727494cc694c809a2768a5a27466b2": {
          "model_module": "@jupyter-widgets/controls",
          "model_name": "DescriptionStyleModel",
          "model_module_version": "1.5.0",
          "state": {
            "_model_module": "@jupyter-widgets/controls",
            "_model_module_version": "1.5.0",
            "_model_name": "DescriptionStyleModel",
            "_view_count": null,
            "_view_module": "@jupyter-widgets/base",
            "_view_module_version": "1.2.0",
            "_view_name": "StyleView",
            "description_width": ""
          }
        },
        "10653c467563440895d18428bf5706fc": {
          "model_module": "@jupyter-widgets/base",
          "model_name": "LayoutModel",
          "model_module_version": "1.2.0",
          "state": {
            "_model_module": "@jupyter-widgets/base",
            "_model_module_version": "1.2.0",
            "_model_name": "LayoutModel",
            "_view_count": null,
            "_view_module": "@jupyter-widgets/base",
            "_view_module_version": "1.2.0",
            "_view_name": "LayoutView",
            "align_content": null,
            "align_items": null,
            "align_self": null,
            "border": null,
            "bottom": null,
            "display": null,
            "flex": null,
            "flex_flow": null,
            "grid_area": null,
            "grid_auto_columns": null,
            "grid_auto_flow": null,
            "grid_auto_rows": null,
            "grid_column": null,
            "grid_gap": null,
            "grid_row": null,
            "grid_template_areas": null,
            "grid_template_columns": null,
            "grid_template_rows": null,
            "height": null,
            "justify_content": null,
            "justify_items": null,
            "left": null,
            "margin": null,
            "max_height": null,
            "max_width": null,
            "min_height": null,
            "min_width": null,
            "object_fit": null,
            "object_position": null,
            "order": null,
            "overflow": null,
            "overflow_x": null,
            "overflow_y": null,
            "padding": null,
            "right": null,
            "top": null,
            "visibility": null,
            "width": null
          }
        },
        "2d1d0b6a112d490ab66ef52799d00e5f": {
          "model_module": "@jupyter-widgets/controls",
          "model_name": "ProgressStyleModel",
          "model_module_version": "1.5.0",
          "state": {
            "_model_module": "@jupyter-widgets/controls",
            "_model_module_version": "1.5.0",
            "_model_name": "ProgressStyleModel",
            "_view_count": null,
            "_view_module": "@jupyter-widgets/base",
            "_view_module_version": "1.2.0",
            "_view_name": "StyleView",
            "bar_color": null,
            "description_width": ""
          }
        },
        "7cf9bdc1c5194a99b4d222706a8771b0": {
          "model_module": "@jupyter-widgets/base",
          "model_name": "LayoutModel",
          "model_module_version": "1.2.0",
          "state": {
            "_model_module": "@jupyter-widgets/base",
            "_model_module_version": "1.2.0",
            "_model_name": "LayoutModel",
            "_view_count": null,
            "_view_module": "@jupyter-widgets/base",
            "_view_module_version": "1.2.0",
            "_view_name": "LayoutView",
            "align_content": null,
            "align_items": null,
            "align_self": null,
            "border": null,
            "bottom": null,
            "display": null,
            "flex": null,
            "flex_flow": null,
            "grid_area": null,
            "grid_auto_columns": null,
            "grid_auto_flow": null,
            "grid_auto_rows": null,
            "grid_column": null,
            "grid_gap": null,
            "grid_row": null,
            "grid_template_areas": null,
            "grid_template_columns": null,
            "grid_template_rows": null,
            "height": null,
            "justify_content": null,
            "justify_items": null,
            "left": null,
            "margin": null,
            "max_height": null,
            "max_width": null,
            "min_height": null,
            "min_width": null,
            "object_fit": null,
            "object_position": null,
            "order": null,
            "overflow": null,
            "overflow_x": null,
            "overflow_y": null,
            "padding": null,
            "right": null,
            "top": null,
            "visibility": null,
            "width": null
          }
        },
        "f553863b456345f783cb79d07222cbd1": {
          "model_module": "@jupyter-widgets/controls",
          "model_name": "DescriptionStyleModel",
          "model_module_version": "1.5.0",
          "state": {
            "_model_module": "@jupyter-widgets/controls",
            "_model_module_version": "1.5.0",
            "_model_name": "DescriptionStyleModel",
            "_view_count": null,
            "_view_module": "@jupyter-widgets/base",
            "_view_module_version": "1.2.0",
            "_view_name": "StyleView",
            "description_width": ""
          }
        }
      }
    }
  },
  "cells": [
    {
      "cell_type": "code",
      "source": [
        "# Fix notebook metadata for GitHub rendering\n",
        "import json\n",
        "from google.colab import files\n",
        "\n",
        "# This just ensures proper metadata\n",
        "print(\"Notebook metadata fixed for GitHub compatibility\")"
      ],
      "metadata": {
        "colab": {
          "base_uri": "https://localhost:8080/"
        },
        "id": "CzcgHnPldao0",
        "outputId": "c1a454e2-fa81-435d-d3d8-6e2a7be84d2b"
      },
      "execution_count": null,
      "outputs": [
        {
          "output_type": "stream",
          "name": "stdout",
          "text": [
            "Notebook metadata fixed for GitHub compatibility\n"
          ]
        }
      ]
    },
    {
      "cell_type": "code",
      "execution_count": null,
      "metadata": {
        "colab": {
          "base_uri": "https://localhost:8080/"
        },
        "collapsed": true,
        "id": "Jde3bakHXI-E",
        "outputId": "47bd0988-395e-490e-960a-078036cd57db"
      },
      "outputs": [
        {
          "output_type": "stream",
          "name": "stdout",
          "text": [
            "  Preparing metadata (setup.py) ... \u001b[?25l\u001b[?25hdone\n",
            "\u001b[2K   \u001b[90m━━━━━━━━━━━━━━━━━━━━━━━━━━━━━━━━━━━━━━━━\u001b[0m \u001b[32m84.1/84.1 kB\u001b[0m \u001b[31m7.5 MB/s\u001b[0m eta \u001b[36m0:00:00\u001b[0m\n",
            "\u001b[?25h  Building wheel for rouge-score (setup.py) ... \u001b[?25l\u001b[?25hdone\n",
            "Setup complete! Ready to load data!\n"
          ]
        }
      ],
      "source": [
        "# Install required libraries\n",
        "!pip install datasets transformers accelerate evaluate rouge-score -q\n",
        "\n",
        "print(\"Setup complete! Ready to load data!\")"
      ]
    },
    {
      "cell_type": "code",
      "source": [
        "import torch\n",
        "from transformers import pipeline\n",
        "\n",
        "# Check GPU\n",
        "print(f\"GPU Available: {torch.cuda.is_available()}\")\n",
        "\n",
        "if torch.cuda.is_available():\n",
        "  print(f\"GPU Name: {torch.cuda.get_device_name(0)}\")"
      ],
      "metadata": {
        "colab": {
          "base_uri": "https://localhost:8080/"
        },
        "collapsed": true,
        "id": "ElhsrY-AY9RD",
        "outputId": "154f4546-7b31-44ef-ab07-7b64596f1e7a"
      },
      "execution_count": null,
      "outputs": [
        {
          "output_type": "stream",
          "name": "stdout",
          "text": [
            "GPU Available: True\n",
            "GPU Name: Tesla T4\n"
          ]
        }
      ]
    },
    {
      "cell_type": "code",
      "source": [
        "from datasets import load_dataset\n",
        "import pandas as pd\n",
        "\n",
        "print(\"Loading dataset...\")\n",
        "\n",
        "# Load the dataset - we'll start with a sample first\n",
        "dataset = load_dataset(\"mlfoundations-dev/github-issues\", split=\"train\", streaming=True)\n",
        "\n",
        "print(\"Dataset loaded in streaming mode!\")"
      ],
      "metadata": {
        "colab": {
          "base_uri": "https://localhost:8080/",
          "height": 208,
          "referenced_widgets": [
            "ab42e908c046472cae23636163d9abf2",
            "ae058ffcb3954268a17f0b4af686821a",
            "8efb479ccf65463cb73f64281365d2ff",
            "7b9c2ce5e97b4518941fee07ab903be2",
            "5fbfca55291947fe926b2b0e24a27992",
            "0d1ddfa9936b42b48642c8e3687de40e",
            "b7727494cc694c809a2768a5a27466b2",
            "10653c467563440895d18428bf5706fc",
            "2d1d0b6a112d490ab66ef52799d00e5f",
            "7cf9bdc1c5194a99b4d222706a8771b0",
            "f553863b456345f783cb79d07222cbd1"
          ]
        },
        "collapsed": true,
        "id": "-b7kqQQgZZw_",
        "outputId": "ab51adb7-0bd2-407d-cacf-1bdd81920fa0"
      },
      "execution_count": null,
      "outputs": [
        {
          "output_type": "stream",
          "name": "stdout",
          "text": [
            "Loading dataset...\n"
          ]
        },
        {
          "output_type": "stream",
          "name": "stderr",
          "text": [
            "/usr/local/lib/python3.12/dist-packages/huggingface_hub/utils/_auth.py:94: UserWarning: \n",
            "The secret `HF_TOKEN` does not exist in your Colab secrets.\n",
            "To authenticate with the Hugging Face Hub, create a token in your settings tab (https://huggingface.co/settings/tokens), set it as secret in your Google Colab and restart your session.\n",
            "You will be able to reuse this secret in all of your notebooks.\n",
            "Please note that authentication is recommended but still optional to access public models or datasets.\n",
            "  warnings.warn(\n"
          ]
        },
        {
          "output_type": "display_data",
          "data": {
            "text/plain": [
              "README.md:   0%|          | 0.00/799 [00:00<?, ?B/s]"
            ],
            "application/vnd.jupyter.widget-view+json": {
              "version_major": 2,
              "version_minor": 0,
              "model_id": "ab42e908c046472cae23636163d9abf2"
            }
          },
          "metadata": {}
        },
        {
          "output_type": "stream",
          "name": "stdout",
          "text": [
            "Dataset loaded in streaming mode!\n"
          ]
        }
      ]
    },
    {
      "cell_type": "code",
      "source": [
        "# Get first 5 examples to understand the structure\n",
        "examples = []\n",
        "for i, example in enumerate(dataset):\n",
        "    examples.append(example)\n",
        "    if i >= 4:  # Get 5 examples (0-4)\n",
        "        break\n",
        "\n",
        "# Convert to DataFrame for easy viewing\n",
        "df_sample = pd.DataFrame(examples)\n",
        "\n",
        "print(\"Dataset Structure:\")\n",
        "print(f\"Number of columns: {len(df_sample.columns)}\")\n",
        "print(f\"\\nColumn names:\\n{df_sample.columns.tolist()}\")\n",
        "print(\"\\n\" + \"=\"*80)\n",
        "print(\"\\n First example:\")\n",
        "for key, value in examples[0].items():\n",
        "    print(f\"\\n{key}:\")\n",
        "    print(f\"  {str(value)[:200]}\")  # Show first 200 characters\n",
        "\n",
        "# Check the fields we care about most\n",
        "print(\"=\"*80)\n",
        "print(\"TITLE (what we want to predict):\")\n",
        "print(examples[0]['title'])\n",
        "print(\"\\n\" + \"=\"*80)\n",
        "print(\"BODY (what we'll use as input):\")\n",
        "print(examples[0]['body'][:500])  # First 500 characters\n",
        "print(\"\\n (truncated)\")\n",
        "print(\"\\n\" + \"=\"*80)\n",
        "\n",
        "# Check if there are None/empty values\n",
        "print(\"\\n Data Quality Check:\")\n",
        "for i, ex in enumerate(examples):\n",
        "    has_title = ex['title'] is not None and len(ex['title']) > 0\n",
        "    has_body = ex['body'] is not None and len(ex['body']) > 0\n",
        "    print(f\"Example {i}: Title={'yes' if has_title else 'no'}, Body={'yes' if has_body else 'no'}\")"
      ],
      "metadata": {
        "colab": {
          "base_uri": "https://localhost:8080/"
        },
        "collapsed": true,
        "id": "WzFt9wIcZ7_k",
        "outputId": "59e767e6-4831-4f14-fede-2fed23debbe8"
      },
      "execution_count": null,
      "outputs": [
        {
          "output_type": "stream",
          "name": "stdout",
          "text": [
            "Dataset Structure:\n",
            "Number of columns: 12\n",
            "\n",
            "Column names:\n",
            "['repo_name', 'topic', 'issue_number', 'title', 'body', 'state', 'created_at', 'updated_at', 'url', 'labels', 'user_login', 'comments_count']\n",
            "\n",
            "================================================================================\n",
            "\n",
            " First example:\n",
            "\n",
            "repo_name:\n",
            "  BlinkDL/RWKV-LM\n",
            "\n",
            "topic:\n",
            "  pytorch\n",
            "\n",
            "issue_number:\n",
            "  127\n",
            "\n",
            "title:\n",
            "  finetune for other languages?\n",
            "\n",
            "body:\n",
            "  how I can fine-tune for vietnamese for dialog chatbot ? Thanks guys\n",
            "\n",
            "state:\n",
            "  closed\n",
            "\n",
            "created_at:\n",
            "  2023-05-25T08:48:41Z\n",
            "\n",
            "updated_at:\n",
            "  2023-06-07T16:56:20Z\n",
            "\n",
            "url:\n",
            "  https://github.com/BlinkDL/RWKV-LM/issues/127\n",
            "\n",
            "labels:\n",
            "  []\n",
            "\n",
            "user_login:\n",
            "  batman-do\n",
            "\n",
            "comments_count:\n",
            "  3\n",
            "================================================================================\n",
            "📝 TITLE (what we want to predict):\n",
            "finetune for other languages?\n",
            "\n",
            "================================================================================\n",
            "BODY (what we'll use as input):\n",
            "how I can fine-tune for vietnamese for dialog chatbot ? Thanks guys\n",
            "\n",
            " (truncated)\n",
            "\n",
            "================================================================================\n",
            "\n",
            " Data Quality Check:\n",
            "Example 0: Title=yes, Body=yes\n",
            "Example 1: Title=yes, Body=yes\n",
            "Example 2: Title=yes, Body=yes\n",
            "Example 3: Title=yes, Body=yes\n",
            "Example 4: Title=yes, Body=yes\n"
          ]
        }
      ]
    },
    {
      "cell_type": "code",
      "source": [
        "print(\"Loading 10,000 samples for detailed analysis...\")\n",
        "\n",
        "# Load 10k samples\n",
        "sample_size = 10000\n",
        "samples = []\n",
        "for i, example in enumerate(dataset):\n",
        "    samples.append(example)\n",
        "    if i >= sample_size - 1:\n",
        "        break\n",
        "\n",
        "df = pd.DataFrame(samples)\n",
        "\n",
        "# Calculate lengths\n",
        "df['title_length'] = df['title'].apply(lambda x: len(str(x).split()) if x else 0)\n",
        "df['body_length'] = df['body'].apply(lambda x: len(str(x).split()) if x else 0)\n",
        "\n",
        "# Filter out empty entries\n",
        "df_clean = df[(df['title_length'] > 0) & (df['body_length'] > 0)]\n",
        "\n",
        "print(f\"\\nLoaded {len(df)} samples\")\n",
        "print(f\"Clean samples (with both title and body): {len(df_clean)}\")\n",
        "print(f\"Data quality: {len(df_clean)/len(df)*100:.1f}%\")\n",
        "\n",
        "# Create statistics table\n",
        "stats_data = {\n",
        "    'Metric': ['Count', 'Mean', 'Std Dev', 'Min', '25%', 'Median (50%)', '75%', 'Max'],\n",
        "    'Title Length (words)': [\n",
        "        len(df_clean),\n",
        "        f\"{df_clean['title_length'].mean():.1f}\",\n",
        "        f\"{df_clean['title_length'].std():.1f}\",\n",
        "        f\"{df_clean['title_length'].min():.0f}\",\n",
        "        f\"{df_clean['title_length'].quantile(0.25):.0f}\",\n",
        "        f\"{df_clean['title_length'].median():.0f}\",\n",
        "        f\"{df_clean['title_length'].quantile(0.75):.0f}\",\n",
        "        f\"{df_clean['title_length'].max():.0f}\"\n",
        "    ],\n",
        "    'Body Length (words)': [\n",
        "        len(df_clean),\n",
        "        f\"{df_clean['body_length'].mean():.1f}\",\n",
        "        f\"{df_clean['body_length'].std():.1f}\",\n",
        "        f\"{df_clean['body_length'].min():.0f}\",\n",
        "        f\"{df_clean['body_length'].quantile(0.25):.0f}\",\n",
        "        f\"{df_clean['body_length'].median():.0f}\",\n",
        "        f\"{df_clean['body_length'].quantile(0.75):.0f}\",\n",
        "        f\"{df_clean['body_length'].max():.0f}\"\n",
        "    ]\n",
        "}\n",
        "\n",
        "stats_df = pd.DataFrame(stats_data)\n",
        "print(\"\\n\" + \"=\"*80)\n",
        "print(\"TEXT LENGTH STATISTICS\")\n",
        "print(\"=\"*80)\n",
        "print(stats_df.to_string(index=False))\n",
        "\n",
        "# Visualizations\n",
        "import matplotlib.pyplot as plt\n",
        "\n",
        "fig, axes = plt.subplots(1, 2, figsize=(14, 5))\n",
        "\n",
        "# Title lengths\n",
        "axes[0].hist(df_clean['title_length'], bins=50, edgecolor='black', alpha=0.7, color='steelblue')\n",
        "axes[0].set_xlabel('Number of Words')\n",
        "axes[0].set_ylabel('Frequency')\n",
        "axes[0].set_title('Title Length Distribution')\n",
        "axes[0].axvline(df_clean['title_length'].median(), color='red', linestyle='--',\n",
        "                linewidth=2, label=f'Median: {df_clean[\"title_length\"].median():.0f}')\n",
        "axes[0].legend()\n",
        "axes[0].grid(True, alpha=0.3)\n",
        "\n",
        "# Body lengths (capped at 1000 for visualization)\n",
        "body_capped = df_clean['body_length'].clip(upper=1000)\n",
        "axes[1].hist(body_capped, bins=50, edgecolor='black', alpha=0.7, color='coral')\n",
        "axes[1].set_xlabel('Number of Words (capped at 1000)')\n",
        "axes[1].set_ylabel('Frequency')\n",
        "axes[1].set_title('Body Length Distribution')\n",
        "axes[1].axvline(df_clean['body_length'].median(), color='red', linestyle='--',\n",
        "                linewidth=2, label=f'Median: {df_clean[\"body_length\"].median():.0f}')\n",
        "axes[1].legend()\n",
        "axes[1].grid(True, alpha=0.3)\n",
        "\n",
        "plt.tight_layout()\n",
        "plt.show()"
      ],
      "metadata": {
        "colab": {
          "base_uri": "https://localhost:8080/",
          "height": 729
        },
        "collapsed": true,
        "id": "uTNXQJZWaxoi",
        "outputId": "36b685d8-3fe3-400e-bd73-b2042ef9def1"
      },
      "execution_count": null,
      "outputs": [
        {
          "output_type": "stream",
          "name": "stdout",
          "text": [
            "Loading 10,000 samples for detailed analysis...\n",
            "\n",
            "Loaded 10000 samples\n",
            "Clean samples (with both title and body): 9672\n",
            "Data quality: 96.7%\n",
            "\n",
            "================================================================================\n",
            "TEXT LENGTH STATISTICS\n",
            "================================================================================\n",
            "      Metric Title Length (words) Body Length (words)\n",
            "       Count                 9672                9672\n",
            "        Mean                  7.1               166.3\n",
            "     Std Dev                  4.5               309.5\n",
            "         Min                    1                   1\n",
            "         25%                    4                  39\n",
            "Median (50%)                    6                  90\n",
            "         75%                    9                 190\n",
            "         Max                  151               13128\n"
          ]
        },
        {
          "output_type": "display_data",
          "data": {
            "text/plain": [
              "<Figure size 1400x500 with 2 Axes>"
            ],
            "image/png": "[encoded data removed]"
          },
          "metadata": {}
        }
      ]
    },
    {
      "cell_type": "code",
      "source": [
        "print(\"\\n\" + \"=\"*80)\n",
        "print(\"SAMPLE EXAMPLES FROM DATASET\")\n",
        "print(\"=\"*80)\n",
        "\n",
        "# Create examples table\n",
        "examples_data = []\n",
        "for i in [0, 100, 500, 1000, 2000]:\n",
        "    if i < len(df_clean):\n",
        "        row = df_clean.iloc[i]\n",
        "        examples_data.append({\n",
        "            'Example': i+1,\n",
        "            'Title': str(row['title'])[:60] + '...' if len(str(row['title'])) > 60 else str(row['title']),\n",
        "            'Body Preview': str(row['body'])[:80].replace('\\n', ' ') + '...',\n",
        "            'Title Words': int(row['title_length']),\n",
        "            'Body Words': int(row['body_length'])\n",
        "        })\n",
        "\n",
        "examples_df = pd.DataFrame(examples_data)\n",
        "print(examples_df.to_string(index=False))\n",
        "\n",
        "print(\"\\n\" + \"=\"*80)\n",
        "print(\"DETAILED VIEW - Example 1\")\n",
        "print(\"=\"*80)\n",
        "row = df_clean.iloc[0]\n",
        "print(f\"Repository: {row['repo_name']}\")\n",
        "print(f\"Issue Number: {row['issue_number']}\")\n",
        "print(f\"State: {row['state']}\")\n",
        "print(f\"\\nTITLE: {row['title']}\")\n",
        "print(f\"\\nBODY:\\n{row['body'][:500]}\")\n",
        "print(f\"\\n... (showing first 500 characters of {row['body_length']} word body)\")"
      ],
      "metadata": {
        "colab": {
          "base_uri": "https://localhost:8080/"
        },
        "id": "en4AQgPncZyw",
        "outputId": "071b0998-90ec-419a-c694-dfe24f1754d1"
      },
      "execution_count": null,
      "outputs": [
        {
          "output_type": "stream",
          "name": "stdout",
          "text": [
            "\n",
            "================================================================================\n",
            "SAMPLE EXAMPLES FROM DATASET\n",
            "================================================================================\n",
            " Example                                                           Title                                                                           Body Preview  Title Words  Body Words\n",
            "       1                                   finetune for other languages?                 how I can fine-tune for vietnamese for dialog chatbot ? Thanks guys...            4          12\n",
            "     101 How to detect the noise, breaks and multi-person speak in a ...    Hello, I am not in the audio field. I would like to ask, for a reference audio, ...           12          61\n",
            "     501              Improve translation in part 6 on feature selection    [A comment on Kaggle](https://www.kaggle.com/kashnitsky/topic-6-feature-engineer...            8           4\n",
            "    1001 onnx.helper.make_attribute_ref does not set attr.ref_attr_na... # Bug Report\\r \\r ### Describe the bug\\r onnx.helper.make_attribute_ref does not cr...            5          35\n",
            "    2001                                  Package Error: python-dateutil Would you please support the newest version of python-dateutil?\\r \\r ```\\r ERROR: z...            3          25\n",
            "\n",
            "================================================================================\n",
            "DETAILED VIEW - Example 1\n",
            "================================================================================\n",
            "Repository: BlinkDL/RWKV-LM\n",
            "Issue Number: 127\n",
            "State: closed\n",
            "\n",
            "TITLE: finetune for other languages?\n",
            "\n",
            "BODY:\n",
            "how I can fine-tune for vietnamese for dialog chatbot ? Thanks guys\n",
            "\n",
            "... (showing first 500 characters of 12 word body)\n"
          ]
        }
      ]
    }
  ]
}