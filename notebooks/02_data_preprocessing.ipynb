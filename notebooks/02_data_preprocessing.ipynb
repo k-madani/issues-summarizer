{
  "nbformat": 4,
  "nbformat_minor": 0,
  "metadata": {
    "colab": {
      "provenance": [],
      "gpuType": "T4"
    },
    "kernelspec": {
      "name": "python3",
      "display_name": "Python 3"
    },
    "language_info": {
      "name": "python"
    },
    "accelerator": "GPU",
    "widgets": {
      "application/vnd.jupyter.widget-state+json": {
        "526c1e45665b49ae9e1a9de809d5c89d": {
          "model_module": "@jupyter-widgets/controls",
          "model_name": "HBoxModel",
          "model_module_version": "1.5.0",
          "state": {
            "_dom_classes": [],
            "_model_module": "@jupyter-widgets/controls",
            "_model_module_version": "1.5.0",
            "_model_name": "HBoxModel",
            "_view_count": null,
            "_view_module": "@jupyter-widgets/controls",
            "_view_module_version": "1.5.0",
            "_view_name": "HBoxView",
            "box_style": "",
            "children": [
              "IPY_MODEL_b1ea354da8ce4f408a02334f7cdf2793",
              "IPY_MODEL_ecd2f244f932484abe554b5be832a77b",
              "IPY_MODEL_82b0b0c59e8c429ea70ff0afb7e4d4f2"
            ],
            "layout": "IPY_MODEL_eea3a999256444db8d2ee5b5faf21f18"
          }
        },
        "b1ea354da8ce4f408a02334f7cdf2793": {
          "model_module": "@jupyter-widgets/controls",
          "model_name": "HTMLModel",
          "model_module_version": "1.5.0",
          "state": {
            "_dom_classes": [],
            "_model_module": "@jupyter-widgets/controls",
            "_model_module_version": "1.5.0",
            "_model_name": "HTMLModel",
            "_view_count": null,
            "_view_module": "@jupyter-widgets/controls",
            "_view_module_version": "1.5.0",
            "_view_name": "HTMLView",
            "description": "",
            "description_tooltip": null,
            "layout": "IPY_MODEL_6018373f0b2d44638abbbb47e1af7c80",
            "placeholder": "​",
            "style": "IPY_MODEL_a6da6ae09b5d46a9bcefc79cbdd95e22",
            "value": "README.md: 100%"
          }
        },
        "ecd2f244f932484abe554b5be832a77b": {
          "model_module": "@jupyter-widgets/controls",
          "model_name": "FloatProgressModel",
          "model_module_version": "1.5.0",
          "state": {
            "_dom_classes": [],
            "_model_module": "@jupyter-widgets/controls",
            "_model_module_version": "1.5.0",
            "_model_name": "FloatProgressModel",
            "_view_count": null,
            "_view_module": "@jupyter-widgets/controls",
            "_view_module_version": "1.5.0",
            "_view_name": "ProgressView",
            "bar_style": "success",
            "description": "",
            "description_tooltip": null,
            "layout": "IPY_MODEL_a78f8e7ea81f4419b243f9210fde4211",
            "max": 799,
            "min": 0,
            "orientation": "horizontal",
            "style": "IPY_MODEL_f9d33cedd95541358783e43cee5aa945",
            "value": 799
          }
        },
        "82b0b0c59e8c429ea70ff0afb7e4d4f2": {
          "model_module": "@jupyter-widgets/controls",
          "model_name": "HTMLModel",
          "model_module_version": "1.5.0",
          "state": {
            "_dom_classes": [],
            "_model_module": "@jupyter-widgets/controls",
            "_model_module_version": "1.5.0",
            "_model_name": "HTMLModel",
            "_view_count": null,
            "_view_module": "@jupyter-widgets/controls",
            "_view_module_version": "1.5.0",
            "_view_name": "HTMLView",
            "description": "",
            "description_tooltip": null,
            "layout": "IPY_MODEL_4ef82fd566a64188b97006626f552b3e",
            "placeholder": "​",
            "style": "IPY_MODEL_91150d43d0c74292bf44d20c778bf99d",
            "value": " 799/799 [00:00&lt;00:00, 80.1kB/s]"
          }
        },
        "eea3a999256444db8d2ee5b5faf21f18": {
          "model_module": "@jupyter-widgets/base",
          "model_name": "LayoutModel",
          "model_module_version": "1.2.0",
          "state": {
            "_model_module": "@jupyter-widgets/base",
            "_model_module_version": "1.2.0",
            "_model_name": "LayoutModel",
            "_view_count": null,
            "_view_module": "@jupyter-widgets/base",
            "_view_module_version": "1.2.0",
            "_view_name": "LayoutView",
            "align_content": null,
            "align_items": null,
            "align_self": null,
            "border": null,
            "bottom": null,
            "display": null,
            "flex": null,
            "flex_flow": null,
            "grid_area": null,
            "grid_auto_columns": null,
            "grid_auto_flow": null,
            "grid_auto_rows": null,
            "grid_column": null,
            "grid_gap": null,
            "grid_row": null,
            "grid_template_areas": null,
            "grid_template_columns": null,
            "grid_template_rows": null,
            "height": null,
            "justify_content": null,
            "justify_items": null,
            "left": null,
            "margin": null,
            "max_height": null,
            "max_width": null,
            "min_height": null,
            "min_width": null,
            "object_fit": null,
            "object_position": null,
            "order": null,
            "overflow": null,
            "overflow_x": null,
            "overflow_y": null,
            "padding": null,
            "right": null,
            "top": null,
            "visibility": null,
            "width": null
          }
        },
        "6018373f0b2d44638abbbb47e1af7c80": {
          "model_module": "@jupyter-widgets/base",
          "model_name": "LayoutModel",
          "model_module_version": "1.2.0",
          "state": {
            "_model_module": "@jupyter-widgets/base",
            "_model_module_version": "1.2.0",
            "_model_name": "LayoutModel",
            "_view_count": null,
            "_view_module": "@jupyter-widgets/base",
            "_view_module_version": "1.2.0",
            "_view_name": "LayoutView",
            "align_content": null,
            "align_items": null,
            "align_self": null,
            "border": null,
            "bottom": null,
            "display": null,
            "flex": null,
            "flex_flow": null,
            "grid_area": null,
            "grid_auto_columns": null,
            "grid_auto_flow": null,
            "grid_auto_rows": null,
            "grid_column": null,
            "grid_gap": null,
            "grid_row": null,
            "grid_template_areas": null,
            "grid_template_columns": null,
            "grid_template_rows": null,
            "height": null,
            "justify_content": null,
            "justify_items": null,
            "left": null,
            "margin": null,
            "max_height": null,
            "max_width": null,
            "min_height": null,
            "min_width": null,
            "object_fit": null,
            "object_position": null,
            "order": null,
            "overflow": null,
            "overflow_x": null,
            "overflow_y": null,
            "padding": null,
            "right": null,
            "top": null,
            "visibility": null,
            "width": null
          }
        },
        "a6da6ae09b5d46a9bcefc79cbdd95e22": {
          "model_module": "@jupyter-widgets/controls",
          "model_name": "DescriptionStyleModel",
          "model_module_version": "1.5.0",
          "state": {
            "_model_module": "@jupyter-widgets/controls",
            "_model_module_version": "1.5.0",
            "_model_name": "DescriptionStyleModel",
            "_view_count": null,
            "_view_module": "@jupyter-widgets/base",
            "_view_module_version": "1.2.0",
            "_view_name": "StyleView",
            "description_width": ""
          }
        },
        "a78f8e7ea81f4419b243f9210fde4211": {
          "model_module": "@jupyter-widgets/base",
          "model_name": "LayoutModel",
          "model_module_version": "1.2.0",
          "state": {
            "_model_module": "@jupyter-widgets/base",
            "_model_module_version": "1.2.0",
            "_model_name": "LayoutModel",
            "_view_count": null,
            "_view_module": "@jupyter-widgets/base",
            "_view_module_version": "1.2.0",
            "_view_name": "LayoutView",
            "align_content": null,
            "align_items": null,
            "align_self": null,
            "border": null,
            "bottom": null,
            "display": null,
            "flex": null,
            "flex_flow": null,
            "grid_area": null,
            "grid_auto_columns": null,
            "grid_auto_flow": null,
            "grid_auto_rows": null,
            "grid_column": null,
            "grid_gap": null,
            "grid_row": null,
            "grid_template_areas": null,
            "grid_template_columns": null,
            "grid_template_rows": null,
            "height": null,
            "justify_content": null,
            "justify_items": null,
            "left": null,
            "margin": null,
            "max_height": null,
            "max_width": null,
            "min_height": null,
            "min_width": null,
            "object_fit": null,
            "object_position": null,
            "order": null,
            "overflow": null,
            "overflow_x": null,
            "overflow_y": null,
            "padding": null,
            "right": null,
            "top": null,
            "visibility": null,
            "width": null
          }
        },
        "f9d33cedd95541358783e43cee5aa945": {
          "model_module": "@jupyter-widgets/controls",
          "model_name": "ProgressStyleModel",
          "model_module_version": "1.5.0",
          "state": {
            "_model_module": "@jupyter-widgets/controls",
            "_model_module_version": "1.5.0",
            "_model_name": "ProgressStyleModel",
            "_view_count": null,
            "_view_module": "@jupyter-widgets/base",
            "_view_module_version": "1.2.0",
            "_view_name": "StyleView",
            "bar_color": null,
            "description_width": ""
          }
        },
        "4ef82fd566a64188b97006626f552b3e": {
          "model_module": "@jupyter-widgets/base",
          "model_name": "LayoutModel",
          "model_module_version": "1.2.0",
          "state": {
            "_model_module": "@jupyter-widgets/base",
            "_model_module_version": "1.2.0",
            "_model_name": "LayoutModel",
            "_view_count": null,
            "_view_module": "@jupyter-widgets/base",
            "_view_module_version": "1.2.0",
            "_view_name": "LayoutView",
            "align_content": null,
            "align_items": null,
            "align_self": null,
            "border": null,
            "bottom": null,
            "display": null,
            "flex": null,
            "flex_flow": null,
            "grid_area": null,
            "grid_auto_columns": null,
            "grid_auto_flow": null,
            "grid_auto_rows": null,
            "grid_column": null,
            "grid_gap": null,
            "grid_row": null,
            "grid_template_areas": null,
            "grid_template_columns": null,
            "grid_template_rows": null,
            "height": null,
            "justify_content": null,
            "justify_items": null,
            "left": null,
            "margin": null,
            "max_height": null,
            "max_width": null,
            "min_height": null,
            "min_width": null,
            "object_fit": null,
            "object_position": null,
            "order": null,
            "overflow": null,
            "overflow_x": null,
            "overflow_y": null,
            "padding": null,
            "right": null,
            "top": null,
            "visibility": null,
            "width": null
          }
        },
        "91150d43d0c74292bf44d20c778bf99d": {
          "model_module": "@jupyter-widgets/controls",
          "model_name": "DescriptionStyleModel",
          "model_module_version": "1.5.0",
          "state": {
            "_model_module": "@jupyter-widgets/controls",
            "_model_module_version": "1.5.0",
            "_model_name": "DescriptionStyleModel",
            "_view_count": null,
            "_view_module": "@jupyter-widgets/base",
            "_view_module_version": "1.2.0",
            "_view_name": "StyleView",
            "description_width": ""
          }
        }
      }
    }
  },
  "cells": [
    {
      "cell_type": "code",
      "execution_count": null,
      "metadata": {
        "id": "TfUqBDQGfjCG"
      },
      "outputs": [],
      "source": [
        "# Install required libraries\n",
        "!pip install datasets transformers accelerate -q\n",
        "\n",
        "from datasets import load_dataset\n",
        "import pandas as pd\n",
        "import re\n",
        "from tqdm import tqdm"
      ]
    },
    {
      "cell_type": "code",
      "source": [
        "print(\"Loading dataset...\")\n",
        "\n",
        "# Load dataset in streaming mode\n",
        "dataset = load_dataset(\"mlfoundations-dev/github-issues\", split=\"train\", streaming=True)\n",
        "\n",
        "# Load 500,000 samples\n",
        "num_samples = 500000\n",
        "samples = []\n",
        "\n",
        "print(f\"Loading {num_samples:,} samples...\")\n",
        "for i, example in enumerate(tqdm(dataset, total=num_samples)):\n",
        "    samples.append(example)\n",
        "    if i >= num_samples - 1:\n",
        "        break\n",
        "\n",
        "df = pd.DataFrame(samples)\n",
        "print(f\"\\nLoaded {len(df):,} samples\")\n",
        "print(f\"Memory usage: {df.memory_usage(deep=True).sum() / 1024**2:.2f} MB\")"
      ],
      "metadata": {
        "colab": {
          "base_uri": "https://localhost:8080/",
          "height": 277,
          "referenced_widgets": [
            "526c1e45665b49ae9e1a9de809d5c89d",
            "b1ea354da8ce4f408a02334f7cdf2793",
            "ecd2f244f932484abe554b5be832a77b",
            "82b0b0c59e8c429ea70ff0afb7e4d4f2",
            "eea3a999256444db8d2ee5b5faf21f18",
            "6018373f0b2d44638abbbb47e1af7c80",
            "a6da6ae09b5d46a9bcefc79cbdd95e22",
            "a78f8e7ea81f4419b243f9210fde4211",
            "f9d33cedd95541358783e43cee5aa945",
            "4ef82fd566a64188b97006626f552b3e",
            "91150d43d0c74292bf44d20c778bf99d"
          ]
        },
        "id": "eX5ofWhv4N3X",
        "outputId": "fd0bd31a-165a-47eb-ac74-901371228a6e"
      },
      "execution_count": null,
      "outputs": [
        {
          "output_type": "stream",
          "name": "stdout",
          "text": [
            "Loading dataset (this will take a few minutes)...\n"
          ]
        },
        {
          "output_type": "stream",
          "name": "stderr",
          "text": [
            "/usr/local/lib/python3.12/dist-packages/huggingface_hub/utils/_auth.py:94: UserWarning: \n",
            "The secret `HF_TOKEN` does not exist in your Colab secrets.\n",
            "To authenticate with the Hugging Face Hub, create a token in your settings tab (https://huggingface.co/settings/tokens), set it as secret in your Google Colab and restart your session.\n",
            "You will be able to reuse this secret in all of your notebooks.\n",
            "Please note that authentication is recommended but still optional to access public models or datasets.\n",
            "  warnings.warn(\n"
          ]
        },
        {
          "output_type": "display_data",
          "data": {
            "text/plain": [
              "README.md:   0%|          | 0.00/799 [00:00<?, ?B/s]"
            ],
            "application/vnd.jupyter.widget-view+json": {
              "version_major": 2,
              "version_minor": 0,
              "model_id": "526c1e45665b49ae9e1a9de809d5c89d"
            }
          },
          "metadata": {}
        },
        {
          "output_type": "stream",
          "name": "stdout",
          "text": [
            "Loading 500,000 samples...\n"
          ]
        },
        {
          "output_type": "stream",
          "name": "stderr",
          "text": [
            " 60%|██████    | 300816/500000 [01:50<01:13, 2711.71it/s]\n"
          ]
        },
        {
          "output_type": "stream",
          "name": "stdout",
          "text": [
            "\n",
            "Loaded 300,816 samples\n",
            "Memory usage: 918.66 MB\n"
          ]
        }
      ]
    },
    {
      "cell_type": "code",
      "source": [
        "print(\"Cleaning and filtering data...\")\n",
        "\n",
        "# Apply cleaning\n",
        "df['title_clean'] = df['title'].apply(clean_text)\n",
        "df['body_clean'] = df['body'].apply(clean_text)\n",
        "\n",
        "# Count words\n",
        "df['title_words'] = df['title_clean'].apply(count_words)\n",
        "df['body_words'] = df['body_clean'].apply(count_words)\n",
        "\n",
        "# Initial stats\n",
        "print(\"\\nBefore filtering:\")\n",
        "print(f\"Total samples: {len(df):,}\")\n",
        "\n",
        "# Apply filters\n",
        "df_filtered = df[\n",
        "    (df['title_words'] > 0) &           # Has title\n",
        "    (df['title_words'] <= 30) &         # Title not too long\n",
        "    (df['body_words'] >= 20) &          # Body has substance\n",
        "    (df['body_words'] <= 1000) &        # Body not too long\n",
        "    (df['title_clean'].str.len() > 0) & # Non-empty after cleaning\n",
        "    (df['body_clean'].str.len() > 0)    # Non-empty after cleaning\n",
        "].copy()\n",
        "\n",
        "print(f\"\\nAfter filtering:\")\n",
        "print(f\"Total samples: {len(df_filtered):,}\")\n",
        "print(f\"Retention rate: {len(df_filtered)/len(df)*100:.1f}%\")\n",
        "\n",
        "# Show statistics\n",
        "stats_data = {\n",
        "    'Metric': ['Count', 'Mean', 'Median', 'Min', 'Max'],\n",
        "    'Title Length': [\n",
        "        len(df_filtered),\n",
        "        f\"{df_filtered['title_words'].mean():.1f}\",\n",
        "        f\"{df_filtered['title_words'].median():.0f}\",\n",
        "        f\"{df_filtered['title_words'].min():.0f}\",\n",
        "        f\"{df_filtered['title_words'].max():.0f}\"\n",
        "    ],\n",
        "    'Body Length': [\n",
        "        len(df_filtered),\n",
        "        f\"{df_filtered['body_words'].mean():.1f}\",\n",
        "        f\"{df_filtered['body_words'].median():.0f}\",\n",
        "        f\"{df_filtered['body_words'].min():.0f}\",\n",
        "        f\"{df_filtered['body_words'].max():.0f}\"\n",
        "    ]\n",
        "}\n",
        "\n",
        "stats_df = pd.DataFrame(stats_data)\n",
        "print(\"\\n\\n\" + \"=\"*60)\n",
        "print(\"FILTERED DATASET STATISTICS\")\n",
        "print(\"=\"*60)\n",
        "print(stats_df.to_string(index=False))"
      ],
      "metadata": {
        "colab": {
          "base_uri": "https://localhost:8080/"
        },
        "id": "vr0Y7S_D6Txo",
        "outputId": "3b6b9bc7-7a81-440e-accb-ed5913e5f973"
      },
      "execution_count": null,
      "outputs": [
        {
          "output_type": "stream",
          "name": "stdout",
          "text": [
            "Cleaning and filtering data...\n",
            "\n",
            "Before filtering:\n",
            "Total samples: 300,816\n",
            "\n",
            "After filtering:\n",
            "Total samples: 239,635\n",
            "Retention rate: 79.7%\n",
            "\n",
            "\n",
            "============================================================\n",
            "FILTERED DATASET STATISTICS\n",
            "============================================================\n",
            "Metric Title Length Body Length\n",
            " Count       239635      239635\n",
            "  Mean          7.2       103.3\n",
            "Median            7          73\n",
            "   Min            1          20\n",
            "   Max           30         999\n"
          ]
        }
      ]
    },
    {
      "cell_type": "code",
      "source": [
        "from sklearn.model_selection import train_test_split\n",
        "\n",
        "print(\"Splitting dataset...\")\n",
        "\n",
        "# First split: 80% train, 20% temp (for val + test)\n",
        "train_df, temp_df = train_test_split(\n",
        "    df_filtered,\n",
        "    test_size=0.2,\n",
        "    random_state=42\n",
        ")\n",
        "\n",
        "# Second split: Split temp into 50% val, 50% test (10% each of total)\n",
        "val_df, test_df = train_test_split(\n",
        "    temp_df,\n",
        "    test_size=0.5,\n",
        "    random_state=42\n",
        ")\n",
        "\n",
        "# Display split sizes\n",
        "split_data = {\n",
        "    'Split': ['Training', 'Validation', 'Test', 'Total'],\n",
        "    'Samples': [\n",
        "        f\"{len(train_df):,}\",\n",
        "        f\"{len(val_df):,}\",\n",
        "        f\"{len(test_df):,}\",\n",
        "        f\"{len(train_df) + len(val_df) + len(test_df):,}\"\n",
        "    ],\n",
        "    'Percentage': [\n",
        "        f\"{len(train_df)/len(df_filtered)*100:.1f}%\",\n",
        "        f\"{len(val_df)/len(df_filtered)*100:.1f}%\",\n",
        "        f\"{len(test_df)/len(df_filtered)*100:.1f}%\",\n",
        "        \"100.0%\"\n",
        "    ]\n",
        "}\n",
        "\n",
        "split_df = pd.DataFrame(split_data)\n",
        "print(\"\\n\" + \"=\"*60)\n",
        "print(\"DATASET SPLIT\")\n",
        "print(\"=\"*60)\n",
        "print(split_df.to_string(index=False))"
      ],
      "metadata": {
        "colab": {
          "base_uri": "https://localhost:8080/"
        },
        "id": "YwcUhliG8kJ_",
        "outputId": "843bd000-cb1b-4146-e69e-851252ef3806"
      },
      "execution_count": null,
      "outputs": [
        {
          "output_type": "stream",
          "name": "stdout",
          "text": [
            "Splitting dataset...\n",
            "\n",
            "============================================================\n",
            "DATASET SPLIT\n",
            "============================================================\n",
            "     Split Samples Percentage\n",
            "  Training 191,708      80.0%\n",
            "Validation  23,963      10.0%\n",
            "      Test  23,964      10.0%\n",
            "     Total 239,635     100.0%\n"
          ]
        }
      ]
    },
    {
      "cell_type": "code",
      "source": [
        "# Create final dataset format\n",
        "def create_training_data(df):\n",
        "    # Format data for training\n",
        "    data = []\n",
        "    for _, row in df.iterrows():\n",
        "        data.append({\n",
        "            'input_text': row['body_clean'],\n",
        "            'target_text': row['title_clean']\n",
        "        })\n",
        "    return data\n",
        "\n",
        "print(\"Formatting data for training...\")\n",
        "\n",
        "train_data = create_training_data(train_df)\n",
        "val_data = create_training_data(val_df)\n",
        "test_data = create_training_data(test_df)\n",
        "\n",
        "print(f\"\\nTrain samples: {len(train_data):,}\")\n",
        "print(f\"Validation samples: {len(val_data):,}\")\n",
        "print(f\"Test samples: {len(test_data):,}\")\n",
        "\n",
        "# Show example\n",
        "print(\"\\n\" + \"=\"*60)\n",
        "print(\"EXAMPLE TRAINING PAIR\")\n",
        "print(\"=\"*60)\n",
        "print(f\"INPUT (Body):\\n{train_data[0]['input_text'][:200]}...\")\n",
        "print(f\"\\nTARGET (Title):\\n{train_data[0]['target_text']}\")"
      ],
      "metadata": {
        "colab": {
          "base_uri": "https://localhost:8080/"
        },
        "id": "MJARL2nF8vcz",
        "outputId": "81999695-c72c-47e1-9cc4-4651b893a5c2"
      },
      "execution_count": null,
      "outputs": [
        {
          "output_type": "stream",
          "name": "stdout",
          "text": [
            "Formatting data for training...\n",
            "\n",
            "Train samples: 191,708\n",
            "Validation samples: 23,963\n",
            "Test samples: 23,964\n",
            "\n",
            "============================================================\n",
            "EXAMPLE TRAINING PAIR\n",
            "============================================================\n",
            "INPUT (Body):\n",
            "Hi, I have a question about the language models one can download by calling the stanza.download method. More specifically, I have downloaded the Lithuanian and North Sami models for a project I am cur...\n",
            "\n",
            "TARGET (Title):\n",
            "Model performance discrepancies\n"
          ]
        }
      ]
    },
    {
      "cell_type": "code",
      "source": [
        "import pickle\n",
        "\n",
        "print(\"Saving processed datasets...\")\n",
        "\n",
        "# Save as pickle files\n",
        "with open('train_data.pkl', 'wb') as f:\n",
        "    pickle.dump(train_data, f)\n",
        "\n",
        "with open('val_data.pkl', 'wb') as f:\n",
        "    pickle.dump(val_data, f)\n",
        "\n",
        "with open('test_data.pkl', 'wb') as f:\n",
        "    pickle.dump(test_data, f)\n",
        "\n",
        "print(\"\\nDatasets saved:\")\n",
        "print(\"- train_data.pkl\")\n",
        "print(\"- val_data.pkl\")\n",
        "print(\"- test_data.pkl\")\n",
        "\n",
        "# Also save summary statistics\n",
        "summary = {\n",
        "    'total_samples_loaded': len(df),\n",
        "    'filtered_samples': len(df_filtered),\n",
        "    'retention_rate': len(df_filtered)/len(df),\n",
        "    'train_size': len(train_data),\n",
        "    'val_size': len(val_data),\n",
        "    'test_size': len(test_data),\n",
        "    'title_median_words': float(df_filtered['title_words'].median()),\n",
        "    'body_median_words': float(df_filtered['body_words'].median())\n",
        "}\n",
        "\n",
        "with open('data_summary.pkl', 'wb') as f:\n",
        "    pickle.dump(summary, f)\n",
        "\n",
        "print(\"\\nSummary saved to data_summary.pkl\")\n",
        "print(\"\\n\" + \"=\"*60)\n",
        "print(\"DATA PREPROCESSING COMPLETE!\")\n",
        "print(\"=\"*60)\n",
        "\n",
        "# Print final summary\n",
        "print(\"\\nFinal Dataset Summary:\")\n",
        "for key, value in summary.items():\n",
        "    if isinstance(value, float):\n",
        "        print(f\"  {key}: {value:.2f}\")\n",
        "    else:\n",
        "        print(f\"  {key}: {value:,}\" if isinstance(value, int) else f\"  {key}: {value}\")"
      ],
      "metadata": {
        "id": "RFwmzaRT9RHr",
        "outputId": "3e0c34bb-beb7-498c-ea71-8a560591cf70",
        "colab": {
          "base_uri": "https://localhost:8080/"
        }
      },
      "execution_count": null,
      "outputs": [
        {
          "output_type": "stream",
          "name": "stdout",
          "text": [
            "Saving processed datasets...\n",
            "\n",
            "Datasets saved:\n",
            "- train_data.pkl\n",
            "- val_data.pkl\n",
            "- test_data.pkl\n",
            "\n",
            "Summary saved to data_summary.pkl\n",
            "\n",
            "============================================================\n",
            "DATA PREPROCESSING COMPLETE!\n",
            "============================================================\n",
            "\n",
            "Final Dataset Summary:\n",
            "  total_samples_loaded: 300,816\n",
            "  filtered_samples: 239,635\n",
            "  retention_rate: 0.80\n",
            "  train_size: 191,708\n",
            "  val_size: 23,963\n",
            "  test_size: 23,964\n",
            "  title_median_words: 7.00\n",
            "  body_median_words: 73.00\n"
          ]
        }
      ]
    },
    {
      "cell_type": "code",
      "source": [
        "from google.colab import files\n",
        "\n",
        "# Download all pickle files\n",
        "files.download('train_data.pkl')\n",
        "files.download('val_data.pkl')\n",
        "files.download('test_data.pkl')\n",
        "files.download('data_summary.pkl')\n",
        "\n",
        "print(\"Files downloaded to your computer\")"
      ],
      "metadata": {
        "id": "xbeKv2IDAxi4",
        "outputId": "3dfe4f9a-b804-40dc-b77a-f3466cfdb1fc",
        "colab": {
          "base_uri": "https://localhost:8080/",
          "height": 52
        }
      },
      "execution_count": null,
      "outputs": [
        {
          "output_type": "display_data",
          "data": {
            "text/plain": [
              "<IPython.core.display.Javascript object>"
            ],
            "application/javascript": [
              "\n",
              "    async function download(id, filename, size) {\n",
              "      if (!google.colab.kernel.accessAllowed) {\n",
              "        return;\n",
              "      }\n",
              "      const div = document.createElement('div');\n",
              "      const label = document.createElement('label');\n",
              "      label.textContent = `Downloading \"${filename}\": `;\n",
              "      div.appendChild(label);\n",
              "      const progress = document.createElement('progress');\n",
              "      progress.max = size;\n",
              "      div.appendChild(progress);\n",
              "      document.body.appendChild(div);\n",
              "\n",
              "      const buffers = [];\n",
              "      let downloaded = 0;\n",
              "\n",
              "      const channel = await google.colab.kernel.comms.open(id);\n",
              "      // Send a message to notify the kernel that we're ready.\n",
              "      channel.send({})\n",
              "\n",
              "      for await (const message of channel.messages) {\n",
              "        // Send a message to notify the kernel that we're ready.\n",
              "        channel.send({})\n",
              "        if (message.buffers) {\n",
              "          for (const buffer of message.buffers) {\n",
              "            buffers.push(buffer);\n",
              "            downloaded += buffer.byteLength;\n",
              "            progress.value = downloaded;\n",
              "          }\n",
              "        }\n",
              "      }\n",
              "      const blob = new Blob(buffers, {type: 'application/binary'});\n",
              "      const a = document.createElement('a');\n",
              "      a.href = window.URL.createObjectURL(blob);\n",
              "      a.download = filename;\n",
              "      div.appendChild(a);\n",
              "      a.click();\n",
              "      div.remove();\n",
              "    }\n",
              "  "
            ]
          },
          "metadata": {}
        },
        {
          "output_type": "display_data",
          "data": {
            "text/plain": [
              "<IPython.core.display.Javascript object>"
            ],
            "application/javascript": [
              "download(\"download_446a3aa3-7e59-4d88-9fd1-615262e44b6b\", \"train_data.pkl\", 154210937)"
            ]
          },
          "metadata": {}
        },
        {
          "output_type": "display_data",
          "data": {
            "text/plain": [
              "<IPython.core.display.Javascript object>"
            ],
            "application/javascript": [
              "\n",
              "    async function download(id, filename, size) {\n",
              "      if (!google.colab.kernel.accessAllowed) {\n",
              "        return;\n",
              "      }\n",
              "      const div = document.createElement('div');\n",
              "      const label = document.createElement('label');\n",
              "      label.textContent = `Downloading \"${filename}\": `;\n",
              "      div.appendChild(label);\n",
              "      const progress = document.createElement('progress');\n",
              "      progress.max = size;\n",
              "      div.appendChild(progress);\n",
              "      document.body.appendChild(div);\n",
              "\n",
              "      const buffers = [];\n",
              "      let downloaded = 0;\n",
              "\n",
              "      const channel = await google.colab.kernel.comms.open(id);\n",
              "      // Send a message to notify the kernel that we're ready.\n",
              "      channel.send({})\n",
              "\n",
              "      for await (const message of channel.messages) {\n",
              "        // Send a message to notify the kernel that we're ready.\n",
              "        channel.send({})\n",
              "        if (message.buffers) {\n",
              "          for (const buffer of message.buffers) {\n",
              "            buffers.push(buffer);\n",
              "            downloaded += buffer.byteLength;\n",
              "            progress.value = downloaded;\n",
              "          }\n",
              "        }\n",
              "      }\n",
              "      const blob = new Blob(buffers, {type: 'application/binary'});\n",
              "      const a = document.createElement('a');\n",
              "      a.href = window.URL.createObjectURL(blob);\n",
              "      a.download = filename;\n",
              "      div.appendChild(a);\n",
              "      a.click();\n",
              "      div.remove();\n",
              "    }\n",
              "  "
            ]
          },
          "metadata": {}
        },
        {
          "output_type": "display_data",
          "data": {
            "text/plain": [
              "<IPython.core.display.Javascript object>"
            ],
            "application/javascript": [
              "download(\"download_7a18d59f-8cc5-4ba3-a82e-0f6e60f00e01\", \"val_data.pkl\", 19224240)"
            ]
          },
          "metadata": {}
        },
        {
          "output_type": "display_data",
          "data": {
            "text/plain": [
              "<IPython.core.display.Javascript object>"
            ],
            "application/javascript": [
              "\n",
              "    async function download(id, filename, size) {\n",
              "      if (!google.colab.kernel.accessAllowed) {\n",
              "        return;\n",
              "      }\n",
              "      const div = document.createElement('div');\n",
              "      const label = document.createElement('label');\n",
              "      label.textContent = `Downloading \"${filename}\": `;\n",
              "      div.appendChild(label);\n",
              "      const progress = document.createElement('progress');\n",
              "      progress.max = size;\n",
              "      div.appendChild(progress);\n",
              "      document.body.appendChild(div);\n",
              "\n",
              "      const buffers = [];\n",
              "      let downloaded = 0;\n",
              "\n",
              "      const channel = await google.colab.kernel.comms.open(id);\n",
              "      // Send a message to notify the kernel that we're ready.\n",
              "      channel.send({})\n",
              "\n",
              "      for await (const message of channel.messages) {\n",
              "        // Send a message to notify the kernel that we're ready.\n",
              "        channel.send({})\n",
              "        if (message.buffers) {\n",
              "          for (const buffer of message.buffers) {\n",
              "            buffers.push(buffer);\n",
              "            downloaded += buffer.byteLength;\n",
              "            progress.value = downloaded;\n",
              "          }\n",
              "        }\n",
              "      }\n",
              "      const blob = new Blob(buffers, {type: 'application/binary'});\n",
              "      const a = document.createElement('a');\n",
              "      a.href = window.URL.createObjectURL(blob);\n",
              "      a.download = filename;\n",
              "      div.appendChild(a);\n",
              "      a.click();\n",
              "      div.remove();\n",
              "    }\n",
              "  "
            ]
          },
          "metadata": {}
        },
        {
          "output_type": "display_data",
          "data": {
            "text/plain": [
              "<IPython.core.display.Javascript object>"
            ],
            "application/javascript": [
              "download(\"download_da7a56fe-f478-47c9-a52f-d08e40ee5fd1\", \"test_data.pkl\", 19063969)"
            ]
          },
          "metadata": {}
        },
        {
          "output_type": "display_data",
          "data": {
            "text/plain": [
              "<IPython.core.display.Javascript object>"
            ],
            "application/javascript": [
              "\n",
              "    async function download(id, filename, size) {\n",
              "      if (!google.colab.kernel.accessAllowed) {\n",
              "        return;\n",
              "      }\n",
              "      const div = document.createElement('div');\n",
              "      const label = document.createElement('label');\n",
              "      label.textContent = `Downloading \"${filename}\": `;\n",
              "      div.appendChild(label);\n",
              "      const progress = document.createElement('progress');\n",
              "      progress.max = size;\n",
              "      div.appendChild(progress);\n",
              "      document.body.appendChild(div);\n",
              "\n",
              "      const buffers = [];\n",
              "      let downloaded = 0;\n",
              "\n",
              "      const channel = await google.colab.kernel.comms.open(id);\n",
              "      // Send a message to notify the kernel that we're ready.\n",
              "      channel.send({})\n",
              "\n",
              "      for await (const message of channel.messages) {\n",
              "        // Send a message to notify the kernel that we're ready.\n",
              "        channel.send({})\n",
              "        if (message.buffers) {\n",
              "          for (const buffer of message.buffers) {\n",
              "            buffers.push(buffer);\n",
              "            downloaded += buffer.byteLength;\n",
              "            progress.value = downloaded;\n",
              "          }\n",
              "        }\n",
              "      }\n",
              "      const blob = new Blob(buffers, {type: 'application/binary'});\n",
              "      const a = document.createElement('a');\n",
              "      a.href = window.URL.createObjectURL(blob);\n",
              "      a.download = filename;\n",
              "      div.appendChild(a);\n",
              "      a.click();\n",
              "      div.remove();\n",
              "    }\n",
              "  "
            ]
          },
          "metadata": {}
        },
        {
          "output_type": "display_data",
          "data": {
            "text/plain": [
              "<IPython.core.display.Javascript object>"
            ],
            "application/javascript": [
              "download(\"download_ff2acedf-a8c5-49be-ae77-154df08b7838\", \"data_summary.pkl\", 200)"
            ]
          },
          "metadata": {}
        },
        {
          "output_type": "stream",
          "name": "stdout",
          "text": [
            "Files downloaded to your computer\n"
          ]
        }
      ]
    }
  ]
}